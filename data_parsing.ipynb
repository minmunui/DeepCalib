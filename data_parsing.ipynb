{
 "cells": [
  {
   "cell_type": "code",
   "execution_count": 42,
   "id": "initial_id",
   "metadata": {
    "collapsed": true,
    "ExecuteTime": {
     "end_time": "2024-08-27T06:55:12.156267Z",
     "start_time": "2024-08-27T06:55:12.146266Z"
    }
   },
   "outputs": [
    {
     "ename": "ImportError",
     "evalue": "cannot import name 'parse_file_to_dataframe'",
     "output_type": "error",
     "traceback": [
      "\u001B[1;31m---------------------------------------------------------------------------\u001B[0m",
      "\u001B[1;31mImportError\u001B[0m                               Traceback (most recent call last)",
      "\u001B[1;32m<ipython-input-42-012e22542946>\u001B[0m in \u001B[0;36m<module>\u001B[1;34m\u001B[0m\n\u001B[1;32m----> 1\u001B[1;33m \u001B[1;32mfrom\u001B[0m \u001B[0mundistortion\u001B[0m\u001B[1;33m.\u001B[0m\u001B[0mundistort\u001B[0m \u001B[1;32mimport\u001B[0m \u001B[0mparse_file_to_dataframe\u001B[0m\u001B[1;33m\u001B[0m\u001B[1;33m\u001B[0m\u001B[0m\n\u001B[0m",
      "\u001B[1;31mImportError\u001B[0m: cannot import name 'parse_file_to_dataframe'"
     ]
    }
   ],
   "source": [
    "from undistortion.undistort import parse_file_to_dataframe"
   ]
  },
  {
   "cell_type": "code",
   "outputs": [],
   "source": [
    "result_path = \"results_40to500.txt\"\n",
    "df = parse_file_to_dataframe(result_path)"
   ],
   "metadata": {
    "collapsed": false,
    "ExecuteTime": {
     "end_time": "2024-08-27T06:55:13.422875Z",
     "start_time": "2024-08-27T06:55:13.403878Z"
    }
   },
   "id": "d17d754a2eb9c171",
   "execution_count": 43
  },
  {
   "cell_type": "code",
   "outputs": [
    {
     "data": {
      "text/plain": "                               file_name  prediction_focal  prediction_dist\n0    input\\DJI_20240404112908_0001_W.JPG        427.682847         0.323498\n1    input\\DJI_20240404112910_0002_W.JPG        423.837584         0.464168\n2    input\\DJI_20240404112913_0003_W.JPG        410.031668         0.337391\n3    input\\DJI_20240404112915_0004_W.JPG        426.130959         0.443676\n4    input\\DJI_20240404112918_0005_W.JPG        410.562071         0.362012\n..                                   ...               ...              ...\n116  input\\DJI_20240404113418_0117_W.JPG        389.843744         0.280474\n117  input\\DJI_20240404113420_0118_W.JPG        410.487056         0.303375\n118  input\\DJI_20240404113423_0119_W.JPG        427.648912         0.436557\n119  input\\DJI_20240404113425_0120_W.JPG        421.942637         0.541934\n120  input\\DJI_20240404113428_0121_W.JPG        411.605043         0.555471\n\n[121 rows x 3 columns]",
      "text/html": "<div>\n<style scoped>\n    .dataframe tbody tr th:only-of-type {\n        vertical-align: middle;\n    }\n\n    .dataframe tbody tr th {\n        vertical-align: top;\n    }\n\n    .dataframe thead th {\n        text-align: right;\n    }\n</style>\n<table border=\"1\" class=\"dataframe\">\n  <thead>\n    <tr style=\"text-align: right;\">\n      <th></th>\n      <th>file_name</th>\n      <th>prediction_focal</th>\n      <th>prediction_dist</th>\n    </tr>\n  </thead>\n  <tbody>\n    <tr>\n      <th>0</th>\n      <td>input\\DJI_20240404112908_0001_W.JPG</td>\n      <td>427.682847</td>\n      <td>0.323498</td>\n    </tr>\n    <tr>\n      <th>1</th>\n      <td>input\\DJI_20240404112910_0002_W.JPG</td>\n      <td>423.837584</td>\n      <td>0.464168</td>\n    </tr>\n    <tr>\n      <th>2</th>\n      <td>input\\DJI_20240404112913_0003_W.JPG</td>\n      <td>410.031668</td>\n      <td>0.337391</td>\n    </tr>\n    <tr>\n      <th>3</th>\n      <td>input\\DJI_20240404112915_0004_W.JPG</td>\n      <td>426.130959</td>\n      <td>0.443676</td>\n    </tr>\n    <tr>\n      <th>4</th>\n      <td>input\\DJI_20240404112918_0005_W.JPG</td>\n      <td>410.562071</td>\n      <td>0.362012</td>\n    </tr>\n    <tr>\n      <th>...</th>\n      <td>...</td>\n      <td>...</td>\n      <td>...</td>\n    </tr>\n    <tr>\n      <th>116</th>\n      <td>input\\DJI_20240404113418_0117_W.JPG</td>\n      <td>389.843744</td>\n      <td>0.280474</td>\n    </tr>\n    <tr>\n      <th>117</th>\n      <td>input\\DJI_20240404113420_0118_W.JPG</td>\n      <td>410.487056</td>\n      <td>0.303375</td>\n    </tr>\n    <tr>\n      <th>118</th>\n      <td>input\\DJI_20240404113423_0119_W.JPG</td>\n      <td>427.648912</td>\n      <td>0.436557</td>\n    </tr>\n    <tr>\n      <th>119</th>\n      <td>input\\DJI_20240404113425_0120_W.JPG</td>\n      <td>421.942637</td>\n      <td>0.541934</td>\n    </tr>\n    <tr>\n      <th>120</th>\n      <td>input\\DJI_20240404113428_0121_W.JPG</td>\n      <td>411.605043</td>\n      <td>0.555471</td>\n    </tr>\n  </tbody>\n</table>\n<p>121 rows × 3 columns</p>\n</div>"
     },
     "execution_count": 44,
     "metadata": {},
     "output_type": "execute_result"
    }
   ],
   "source": [
    "df"
   ],
   "metadata": {
    "collapsed": false,
    "ExecuteTime": {
     "end_time": "2024-08-27T06:55:13.985003Z",
     "start_time": "2024-08-27T06:55:13.970004Z"
    }
   },
   "id": "63459f5492887e10",
   "execution_count": 44
  },
  {
   "cell_type": "code",
   "outputs": [
    {
     "name": "stdout",
     "output_type": "stream",
     "text": [
      "focal\tmax : 458.72568744421005\tmin : 238.8827919960022\tmean : 385.70276201584124\n",
      "dist\tmax : 1.1615859746932984\tmin : 0.17575015425682067\tmean : 0.5327329148438351\n"
     ]
    }
   ],
   "source": [
    "max_focal = df['prediction_focal'].max()\n",
    "min_focal = df['prediction_focal'].min()\n",
    "avg_focal = df['prediction_focal'].mean()\n",
    "\n",
    "max_dist = df['prediction_dist'].max()\n",
    "min_dist = df['prediction_dist'].min()\n",
    "avg_dist = df['prediction_dist'].mean()\n",
    "\n",
    "\n",
    "print(f\"focal\\tmax : {max_focal}\\tmin : {min_focal}\\tmean : {avg_focal}\")\n",
    "print(f\"dist\\tmax : {max_dist}\\tmin : {min_dist}\\tmean : {avg_dist}\")"
   ],
   "metadata": {
    "collapsed": false,
    "ExecuteTime": {
     "end_time": "2024-08-27T06:55:14.916168Z",
     "start_time": "2024-08-27T06:55:14.896663Z"
    }
   },
   "id": "6e315eb651416129",
   "execution_count": 45
  },
  {
   "cell_type": "code",
   "outputs": [],
   "source": [
    "from undistortion.undistort import undistort_images\n",
    "\n",
    "focals = df['prediction_focal'].to_list()\n",
    "dists = df['prediction_dist'].to_list()\n",
    "image_paths = df['file_name'].to_list()\n",
    "\n",
    "print(f\"focals \\n{focals}\")\n",
    "print(f\"dists \\n{dists}\")\n",
    "print(f\"paths \\n{image_paths}\")"
   ],
   "metadata": {
    "collapsed": false,
    "ExecuteTime": {
     "start_time": "2024-08-27T06:54:07.093403Z"
    }
   },
   "id": "26cae8200ee790de",
   "execution_count": null
  },
  {
   "cell_type": "code",
   "outputs": [],
   "source": [
    "from undistortion.undistort import undistort_images"
   ],
   "metadata": {
    "collapsed": false,
    "ExecuteTime": {
     "start_time": "2024-08-27T06:54:07.094403Z"
    }
   },
   "id": "13832dad433cd0ae",
   "execution_count": null
  },
  {
   "cell_type": "code",
   "outputs": [],
   "source": [],
   "metadata": {
    "collapsed": false,
    "ExecuteTime": {
     "start_time": "2024-08-27T06:54:07.094907Z"
    }
   },
   "id": "d8aa9e3dbe19421f",
   "execution_count": null
  }
 ],
 "metadata": {
  "kernelspec": {
   "display_name": "Python 3",
   "language": "python",
   "name": "python3"
  },
  "language_info": {
   "codemirror_mode": {
    "name": "ipython",
    "version": 2
   },
   "file_extension": ".py",
   "mimetype": "text/x-python",
   "name": "python",
   "nbconvert_exporter": "python",
   "pygments_lexer": "ipython2",
   "version": "2.7.6"
  }
 },
 "nbformat": 4,
 "nbformat_minor": 5
}
